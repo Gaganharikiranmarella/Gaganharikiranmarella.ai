{
 "cells": [
  {
   "cell_type": "code",
   "execution_count": null,
   "id": "813959ae",
   "metadata": {},
   "outputs": [],
   "source": [
    "# notebook_1.ipynb\n",
    "import pandas as pd\n",
    "import numpy as np\n",
    "import matplotlib.pyplot as plt\n",
    "import seaborn as sns\n",
    "import os\n",
    "\n",
    "# Set up folders (if not using Colab)\n",
    "os.makedirs('outputs', exist_ok=True)\n",
    "os.makedirs('csv_files', exist_ok=True)\n",
    "\n",
    "# Load data\n",
    "sentiment_df = pd.read_csv('csv_files/fear_greed.csv')\n",
    "trader_df = pd.read_csv('csv_files/trader_data.csv')\n",
    "\n",
    "# Convert to datetime\n",
    "sentiment_df['Date'] = pd.to_datetime(sentiment_df['Date'])\n",
    "trader_df['time'] = pd.to_datetime(trader_df['time'])\n",
    "\n",
    "# Extract date to match\n",
    "sentiment_df['date'] = sentiment_df['Date'].dt.date\n",
    "trader_df['date'] = trader_df['time'].dt.date\n",
    "\n",
    "# Merge\n",
    "merged_df = pd.merge(trader_df, sentiment_df[['date', 'Classification']], on='date', how='left')\n",
    "\n",
    "# Save merged\n",
    "merged_df.to_csv('csv_files/merged_data.csv', index=False)\n",
    "\n",
    "# Count of trades per sentiment\n",
    "sns.countplot(x='Classification', data=merged_df)\n",
    "plt.title('Trade Counts: Fear vs Greed')\n",
    "plt.savefig('outputs/trade_counts.png')\n",
    "plt.show()\n",
    "\n",
    "# Avg leverage\n",
    "avg_lev = merged_df.groupby('Classification')['leverage'].mean()\n",
    "avg_lev.plot(kind='bar', title='Avg Leverage by Sentiment')\n",
    "plt.ylabel('Leverage')\n",
    "plt.savefig('outputs/leverage_vs_sentiment.png')\n",
    "plt.show()\n",
    "\n",
    "# Profit distribution\n",
    "sns.boxplot(x='Classification', y='closedPnL', data=merged_df)\n",
    "plt.title('Profitability: Fear vs Greed')\n",
    "plt.savefig('outputs/profit_distribution.png')\n",
    "plt.show()\n"
   ]
  }
 ],
 "metadata": {
  "language_info": {
   "name": "python"
  }
 },
 "nbformat": 4,
 "nbformat_minor": 5
}
